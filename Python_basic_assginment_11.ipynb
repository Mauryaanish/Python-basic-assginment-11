{
  "nbformat": 4,
  "nbformat_minor": 0,
  "metadata": {
    "colab": {
      "provenance": []
    },
    "kernelspec": {
      "name": "python3",
      "display_name": "Python 3"
    },
    "language_info": {
      "name": "python"
    }
  },
  "cells": [
    {
      "cell_type": "code",
      "execution_count": null,
      "metadata": {
        "id": "xFK02kgyIUH0"
      },
      "outputs": [],
      "source": []
    },
    {
      "cell_type": "markdown",
      "source": [
        "## 1. Create an assert statement that throws an AssertionError if the variable spam is a negative\n",
        "integer.\n",
        "\n",
        "Answer:- assert spam <=0, 'The spam variable is less than:- 0"
      ],
      "metadata": {
        "id": "yR1Ov_CgIZXS"
      }
    },
    {
      "cell_type": "code",
      "source": [],
      "metadata": {
        "id": "SMAIagL_IqeX"
      },
      "execution_count": null,
      "outputs": []
    },
    {
      "cell_type": "markdown",
      "source": [
        "## 2. Write an assert statement that triggers an AssertionError if the variables eggs and bacon contain\n",
        "strings that are the same as each other, even if their cases are different (that is, &#39;hello&#39; and &#39;hello&#39; are\n",
        "considered the same, and &#39;goodbye&#39; and &#39;GOODbye&#39; are also considered the same).\n",
        "\n",
        "Answer:- assert eggs.lower() != bacon.lower(), 'The eggs and bacon variables are the same!' or assert eggs.upper() != bacon.upper(), 'The eggs and bacon variables are the same!'"
      ],
      "metadata": {
        "id": "mSnpNoJOIq9j"
      }
    },
    {
      "cell_type": "code",
      "source": [],
      "metadata": {
        "id": "K8jwW-O1I-Rs"
      },
      "execution_count": null,
      "outputs": []
    },
    {
      "cell_type": "markdown",
      "source": [
        "## 3. Create an assert statement that throws an AssertionError every time.\n",
        "\n",
        "Answer:- assert False, 'This assertion always triggers"
      ],
      "metadata": {
        "id": "-MwY2jmtJFgK"
      }
    },
    {
      "cell_type": "code",
      "source": [],
      "metadata": {
        "id": "3O14RMHzJONc"
      },
      "execution_count": null,
      "outputs": []
    },
    {
      "cell_type": "markdown",
      "source": [
        "## 4. What are the two lines that must be present in your software in order to call logging.debug()?\n",
        "\n",
        "Answer:- To be able to call logging.debug(), you must have these two lines at the start of your program:\n",
        "\n",
        "import logging\n",
        "logging.basicConfig(level=logging.DEBUG, format=' %(asctime)s -\n",
        "%(levelname)s - %(message)s')"
      ],
      "metadata": {
        "id": "kT0maVpIJO1j"
      }
    },
    {
      "cell_type": "code",
      "source": [],
      "metadata": {
        "id": "X3FkCW8zUTsA"
      },
      "execution_count": null,
      "outputs": []
    },
    {
      "cell_type": "markdown",
      "source": [
        "## 5. What are the two lines that your program must have in order to have logging.debug() send a\n",
        "logging message to a file named programLog.txt?\n",
        "\n",
        "Answer:-To be able to send logging messages to a file named programLog.txt with logging.debug(), you must have these two lines at the start of your program:\n",
        "\n",
        "import logging\n",
        "\n",
        "logging.basicConfig(filename='programLog.txt', level=logging.DEBUG,\n",
        "\n",
        "format=' %(asctime)s - %(levelname)s - %(message)s')"
      ],
      "metadata": {
        "id": "t1-ZpbQ4UU6F"
      }
    },
    {
      "cell_type": "markdown",
      "source": [
        "##6. What are the five levels of logging?\n",
        "\n",
        "Answer:- DEBUG, INFO, WARNING, ERROR, and CRITICAL"
      ],
      "metadata": {
        "id": "rvY9EsKGUU_E"
      }
    },
    {
      "cell_type": "code",
      "source": [],
      "metadata": {
        "id": "Zwt9XZhkVAIY"
      },
      "execution_count": null,
      "outputs": []
    },
    {
      "cell_type": "markdown",
      "source": [
        "## 7. What line of code would you add to your software to disable all logging messages?\n",
        "\n",
        "Answer:- logging.disable(logging.CRITICAL)"
      ],
      "metadata": {
        "id": "YTVyHH_QVOCw"
      }
    },
    {
      "cell_type": "code",
      "source": [],
      "metadata": {
        "id": "vuQY8xQGVZDR"
      },
      "execution_count": null,
      "outputs": []
    },
    {
      "cell_type": "markdown",
      "source": [
        "## 8.Why is using logging messages better than using print() to display the same message?\n",
        "\n",
        "Answer:- You can disable logging messages without removing the logging function calls. You can selectively disable lower-level logging messages. You can create logging messages. Logging messages provides a timestamp."
      ],
      "metadata": {
        "id": "zQGlRuk0Vg9P"
      }
    },
    {
      "cell_type": "code",
      "source": [],
      "metadata": {
        "id": "0SX0JgB5V0Kx"
      },
      "execution_count": null,
      "outputs": []
    },
    {
      "cell_type": "markdown",
      "source": [
        "## 9. What are the differences between the Step Over, Step In, and Step Out buttons in the debugger?\n",
        "\n",
        "Answer:-  The Step button will move the debugger into a function call. The Over button will quickly execute the function call without stepping into it. The Out button will quickly execute the rest of the code until it steps out of the function it currently is in."
      ],
      "metadata": {
        "id": "SZT6RnAbV1NI"
      }
    },
    {
      "cell_type": "code",
      "source": [],
      "metadata": {
        "id": "AJdffW8vWCrq"
      },
      "execution_count": null,
      "outputs": []
    },
    {
      "cell_type": "markdown",
      "source": [
        "## 10.After you click Continue, when will the debugger stop ?\n",
        "\n",
        "Answer:- After you click Go, the debugger will stop when it has reached the end of the program or a line with a breakpoint."
      ],
      "metadata": {
        "id": "BBkHXYG_WDU5"
      }
    },
    {
      "cell_type": "code",
      "source": [],
      "metadata": {
        "id": "oJkvX5YeWwua"
      },
      "execution_count": null,
      "outputs": []
    },
    {
      "cell_type": "markdown",
      "source": [
        "## 11. What is the concept of a breakpoint?\n",
        "\n",
        "Answer:- A breakpoint is a setting on a line of code that causes the debugger to pause when the program execution reaches the line."
      ],
      "metadata": {
        "id": "LonXW4EnWxgR"
      }
    },
    {
      "cell_type": "code",
      "source": [],
      "metadata": {
        "id": "bvLWkhTnXEnJ"
      },
      "execution_count": null,
      "outputs": []
    }
  ]
}